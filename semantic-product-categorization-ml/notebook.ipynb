{
 "cells": [
  {
   "cell_type": "markdown",
   "metadata": {},
   "source": [
    "# 1. Configuration"
   ]
  },
  {
   "cell_type": "markdown",
   "metadata": {},
   "source": [
    "### A. Importing dependencies"
   ]
  },
  {
   "cell_type": "code",
   "execution_count": 1,
   "metadata": {},
   "outputs": [
    {
     "name": "stderr",
     "output_type": "stream",
     "text": [
      "c:\\Users\\Florian\\AppData\\Local\\Programs\\Python\\Python312\\Lib\\site-packages\\pinecone\\data\\index.py:1: TqdmWarning: IProgress not found. Please update jupyter and ipywidgets. See https://ipywidgets.readthedocs.io/en/stable/user_install.html\n",
      "  from tqdm.autonotebook import tqdm\n"
     ]
    }
   ],
   "source": [
    "import os\n",
    "import time\n",
    "import pandas as pd\n",
    "import itertools\n",
    "\n",
    "import cohere\n",
    "cohere_apikey = os.getenv('COHERE_API_KEY')\n",
    "co = cohere.Client(api_key=cohere_apikey)\n",
    "\n",
    "from pinecone import Pinecone, ServerlessSpec\n",
    "pinecone_apikey = os.getenv('PINECONE_API_KEY')\n",
    "pc = Pinecone(api_key=pinecone_apikey)\n",
    "\n",
    "from tqdm import tqdm\n",
    "tqdm.pandas(ncols=70)\n",
    "\n",
    "# Enables the display of multiple outputs when running a cell\n",
    "from IPython.core.interactiveshell import InteractiveShell\n",
    "InteractiveShell.ast_node_interactivity = 'all'"
   ]
  },
  {
   "cell_type": "markdown",
   "metadata": {},
   "source": [
    "### B. Loading dataset"
   ]
  },
  {
   "cell_type": "code",
   "execution_count": 2,
   "metadata": {},
   "outputs": [
    {
     "data": {
      "text/html": [
       "<div>\n",
       "<style scoped>\n",
       "    .dataframe tbody tr th:only-of-type {\n",
       "        vertical-align: middle;\n",
       "    }\n",
       "\n",
       "    .dataframe tbody tr th {\n",
       "        vertical-align: top;\n",
       "    }\n",
       "\n",
       "    .dataframe thead th {\n",
       "        text-align: right;\n",
       "    }\n",
       "</style>\n",
       "<table border=\"1\" class=\"dataframe\">\n",
       "  <thead>\n",
       "    <tr style=\"text-align: right;\">\n",
       "      <th></th>\n",
       "      <th>name</th>\n",
       "      <th>category</th>\n",
       "    </tr>\n",
       "  </thead>\n",
       "  <tbody>\n",
       "    <tr>\n",
       "      <th>0</th>\n",
       "      <td>Elegant Oak Dining Table T203</td>\n",
       "      <td>Table</td>\n",
       "    </tr>\n",
       "    <tr>\n",
       "      <th>1</th>\n",
       "      <td>Modern Leather Armchair C452</td>\n",
       "      <td>Chair</td>\n",
       "    </tr>\n",
       "    <tr>\n",
       "      <th>2</th>\n",
       "      <td>Vintage Chesterfield Sofa S198</td>\n",
       "      <td>Sofa</td>\n",
       "    </tr>\n",
       "    <tr>\n",
       "      <th>3</th>\n",
       "      <td>Classic Crystal Chandelier L150</td>\n",
       "      <td>Lamp</td>\n",
       "    </tr>\n",
       "    <tr>\n",
       "      <th>4</th>\n",
       "      <td>Luxury Glass Display Shelf SH900</td>\n",
       "      <td>Shelf</td>\n",
       "    </tr>\n",
       "    <tr>\n",
       "      <th>...</th>\n",
       "      <td>...</td>\n",
       "      <td>...</td>\n",
       "    </tr>\n",
       "    <tr>\n",
       "      <th>95</th>\n",
       "      <td>Vintage Turkish Rug R314</td>\n",
       "      <td>Rug</td>\n",
       "    </tr>\n",
       "    <tr>\n",
       "      <th>96</th>\n",
       "      <td>Square Frameless Mirror M311</td>\n",
       "      <td>Mirror</td>\n",
       "    </tr>\n",
       "    <tr>\n",
       "      <th>97</th>\n",
       "      <td>Steel Storage Cabinet CB419</td>\n",
       "      <td>Cabinet</td>\n",
       "    </tr>\n",
       "    <tr>\n",
       "      <th>98</th>\n",
       "      <td>Upholstered Platform Bed B630</td>\n",
       "      <td>Bed</td>\n",
       "    </tr>\n",
       "    <tr>\n",
       "      <th>99</th>\n",
       "      <td>Embroidered Floral Cushion P121</td>\n",
       "      <td>Cushion</td>\n",
       "    </tr>\n",
       "  </tbody>\n",
       "</table>\n",
       "<p>100 rows × 2 columns</p>\n",
       "</div>"
      ],
      "text/plain": [
       "                                name category\n",
       "0      Elegant Oak Dining Table T203    Table\n",
       "1       Modern Leather Armchair C452    Chair\n",
       "2     Vintage Chesterfield Sofa S198     Sofa\n",
       "3    Classic Crystal Chandelier L150     Lamp\n",
       "4   Luxury Glass Display Shelf SH900    Shelf\n",
       "..                               ...      ...\n",
       "95          Vintage Turkish Rug R314      Rug\n",
       "96      Square Frameless Mirror M311   Mirror\n",
       "97       Steel Storage Cabinet CB419  Cabinet\n",
       "98     Upholstered Platform Bed B630      Bed\n",
       "99   Embroidered Floral Cushion P121  Cushion\n",
       "\n",
       "[100 rows x 2 columns]"
      ]
     },
     "execution_count": 2,
     "metadata": {},
     "output_type": "execute_result"
    }
   ],
   "source": [
    "dataset = pd.read_csv('E:/Documents Florian/projects/cohere_test/product_dataset.csv')\n",
    "dataset"
   ]
  },
  {
   "cell_type": "markdown",
   "metadata": {},
   "source": [
    "# 2. Feature"
   ]
  },
  {
   "cell_type": "markdown",
   "metadata": {},
   "source": [
    "### A. Creating Pinecone index"
   ]
  },
  {
   "cell_type": "code",
   "execution_count": null,
   "metadata": {},
   "outputs": [],
   "source": [
    "# Creating the Pinecone index to store the product data and embeddings\n",
    "\n",
    "pc.create_index(\n",
    "    name=\"quickstart\",\n",
    "    dimension=1024,\n",
    "    metric=\"dotproduct\",\n",
    "    spec=ServerlessSpec(\n",
    "        cloud=\"aws\",\n",
    "        region=\"us-east-1\"\n",
    "    ) \n",
    ")"
   ]
  },
  {
   "cell_type": "markdown",
   "metadata": {},
   "source": [
    "### B. Connecting to index "
   ]
  },
  {
   "cell_type": "code",
   "execution_count": 4,
   "metadata": {},
   "outputs": [],
   "source": [
    "index = pc.Index('quickstart')"
   ]
  },
  {
   "cell_type": "markdown",
   "metadata": {},
   "source": [
    "### C. Embeddings function"
   ]
  },
  {
   "cell_type": "code",
   "execution_count": 5,
   "metadata": {},
   "outputs": [
    {
     "data": {
      "text/plain": [
       "([0.015975952, -0.008621216, -0.04837036, -0.07086182, 0.00024151802],\n",
       " '... TRIMMED]')"
      ]
     },
     "execution_count": 5,
     "metadata": {},
     "output_type": "execute_result"
    }
   ],
   "source": [
    "# Generating embeddings\n",
    "\n",
    "def get_embeddings(text):\n",
    "    response = co.embed(\n",
    "    texts=[text], \n",
    "    model=\"embed-english-v3.0\",\n",
    "    input_type=\"search_query\"\n",
    "    )\n",
    "    time.sleep(2)\n",
    "    return response.embeddings[0]\n",
    "\n",
    "get_embeddings('hello')[:5], '... TRIMMED]'"
   ]
  },
  {
   "cell_type": "markdown",
   "metadata": {},
   "source": [
    "### D. Generating embeddings for dataset products"
   ]
  },
  {
   "cell_type": "code",
   "execution_count": 43,
   "metadata": {},
   "outputs": [
    {
     "name": "stderr",
     "output_type": "stream",
     "text": [
      "100%|███████████████████████████████| 100/100 [03:40<00:00,  2.20s/it]\n"
     ]
    },
    {
     "data": {
      "text/html": [
       "<div>\n",
       "<style scoped>\n",
       "    .dataframe tbody tr th:only-of-type {\n",
       "        vertical-align: middle;\n",
       "    }\n",
       "\n",
       "    .dataframe tbody tr th {\n",
       "        vertical-align: top;\n",
       "    }\n",
       "\n",
       "    .dataframe thead th {\n",
       "        text-align: right;\n",
       "    }\n",
       "</style>\n",
       "<table border=\"1\" class=\"dataframe\">\n",
       "  <thead>\n",
       "    <tr style=\"text-align: right;\">\n",
       "      <th></th>\n",
       "      <th>name</th>\n",
       "      <th>category</th>\n",
       "      <th>embeddings</th>\n",
       "    </tr>\n",
       "  </thead>\n",
       "  <tbody>\n",
       "    <tr>\n",
       "      <th>0</th>\n",
       "      <td>Elegant Oak Dining Table T203</td>\n",
       "      <td>Table</td>\n",
       "      <td>[0.0074806213, 0.019897461, -0.009788513, -0.0...</td>\n",
       "    </tr>\n",
       "    <tr>\n",
       "      <th>1</th>\n",
       "      <td>Modern Leather Armchair C452</td>\n",
       "      <td>Chair</td>\n",
       "      <td>[0.0013933182, 0.018051147, -0.053009033, -0.0...</td>\n",
       "    </tr>\n",
       "    <tr>\n",
       "      <th>2</th>\n",
       "      <td>Vintage Chesterfield Sofa S198</td>\n",
       "      <td>Sofa</td>\n",
       "      <td>[0.00084781647, 0.010368347, 0.0041160583, -0....</td>\n",
       "    </tr>\n",
       "    <tr>\n",
       "      <th>3</th>\n",
       "      <td>Classic Crystal Chandelier L150</td>\n",
       "      <td>Lamp</td>\n",
       "      <td>[-0.03479004, 0.0289917, -0.03894043, 0.004398...</td>\n",
       "    </tr>\n",
       "    <tr>\n",
       "      <th>4</th>\n",
       "      <td>Luxury Glass Display Shelf SH900</td>\n",
       "      <td>Shelf</td>\n",
       "      <td>[-0.013877869, -0.0060272217, -0.055114746, -0...</td>\n",
       "    </tr>\n",
       "    <tr>\n",
       "      <th>...</th>\n",
       "      <td>...</td>\n",
       "      <td>...</td>\n",
       "      <td>...</td>\n",
       "    </tr>\n",
       "    <tr>\n",
       "      <th>95</th>\n",
       "      <td>Vintage Turkish Rug R314</td>\n",
       "      <td>Rug</td>\n",
       "      <td>[0.0026340485, 0.015823364, -0.018600464, -0.0...</td>\n",
       "    </tr>\n",
       "    <tr>\n",
       "      <th>96</th>\n",
       "      <td>Square Frameless Mirror M311</td>\n",
       "      <td>Mirror</td>\n",
       "      <td>[-0.03817749, -0.041412354, -0.0004644394, -0....</td>\n",
       "    </tr>\n",
       "    <tr>\n",
       "      <th>97</th>\n",
       "      <td>Steel Storage Cabinet CB419</td>\n",
       "      <td>Cabinet</td>\n",
       "      <td>[-0.00806427, -0.011703491, -0.03756714, -0.04...</td>\n",
       "    </tr>\n",
       "    <tr>\n",
       "      <th>98</th>\n",
       "      <td>Upholstered Platform Bed B630</td>\n",
       "      <td>Bed</td>\n",
       "      <td>[-0.002773285, -0.02003479, 0.012763977, -0.00...</td>\n",
       "    </tr>\n",
       "    <tr>\n",
       "      <th>99</th>\n",
       "      <td>Embroidered Floral Cushion P121</td>\n",
       "      <td>Cushion</td>\n",
       "      <td>[-0.0033435822, 0.0079574585, 0.008262634, -0....</td>\n",
       "    </tr>\n",
       "  </tbody>\n",
       "</table>\n",
       "<p>100 rows × 3 columns</p>\n",
       "</div>"
      ],
      "text/plain": [
       "                                name category  \\\n",
       "0      Elegant Oak Dining Table T203    Table   \n",
       "1       Modern Leather Armchair C452    Chair   \n",
       "2     Vintage Chesterfield Sofa S198     Sofa   \n",
       "3    Classic Crystal Chandelier L150     Lamp   \n",
       "4   Luxury Glass Display Shelf SH900    Shelf   \n",
       "..                               ...      ...   \n",
       "95          Vintage Turkish Rug R314      Rug   \n",
       "96      Square Frameless Mirror M311   Mirror   \n",
       "97       Steel Storage Cabinet CB419  Cabinet   \n",
       "98     Upholstered Platform Bed B630      Bed   \n",
       "99   Embroidered Floral Cushion P121  Cushion   \n",
       "\n",
       "                                           embeddings  \n",
       "0   [0.0074806213, 0.019897461, -0.009788513, -0.0...  \n",
       "1   [0.0013933182, 0.018051147, -0.053009033, -0.0...  \n",
       "2   [0.00084781647, 0.010368347, 0.0041160583, -0....  \n",
       "3   [-0.03479004, 0.0289917, -0.03894043, 0.004398...  \n",
       "4   [-0.013877869, -0.0060272217, -0.055114746, -0...  \n",
       "..                                                ...  \n",
       "95  [0.0026340485, 0.015823364, -0.018600464, -0.0...  \n",
       "96  [-0.03817749, -0.041412354, -0.0004644394, -0....  \n",
       "97  [-0.00806427, -0.011703491, -0.03756714, -0.04...  \n",
       "98  [-0.002773285, -0.02003479, 0.012763977, -0.00...  \n",
       "99  [-0.0033435822, 0.0079574585, 0.008262634, -0....  \n",
       "\n",
       "[100 rows x 3 columns]"
      ]
     },
     "execution_count": 43,
     "metadata": {},
     "output_type": "execute_result"
    }
   ],
   "source": [
    "dataset.insert(2, column='embeddings', value=dataset.progress_apply(lambda row: get_embeddings(row['name']), axis=1))\n",
    "dataset"
   ]
  },
  {
   "cell_type": "markdown",
   "metadata": {},
   "source": [
    "### E. Upserting product data to Pinecone"
   ]
  },
  {
   "cell_type": "code",
   "execution_count": 44,
   "metadata": {},
   "outputs": [],
   "source": [
    "# Preparing data so it can be upserted in batches\n",
    "\n",
    "ids = dataset.index.to_list()\n",
    "names = dataset['name'].tolist()\n",
    "embeddings = dataset['embeddings'].tolist()\n",
    "categories = dataset['category'].tolist()"
   ]
  },
  {
   "cell_type": "code",
   "execution_count": 45,
   "metadata": {},
   "outputs": [
    {
     "data": {
      "text/plain": [
       "{'upserted_count': 100}"
      ]
     },
     "execution_count": 45,
     "metadata": {},
     "output_type": "execute_result"
    }
   ],
   "source": [
    "# Function to upsert data in batches\n",
    "\n",
    "def chunks(iterable, batch_size):\n",
    "    it = iter(iterable)\n",
    "    chunk = tuple(itertools.islice(it, batch_size))\n",
    "    while chunk:\n",
    "        yield chunk\n",
    "        chunk = tuple(itertools.islice(it, batch_size))\n",
    "\n",
    "data = [{\"id\": str(id), \"values\": embedding, \"metadata\": {\"name\": name, \"category\": category}} for id, name, embedding, category in zip(ids, names, embeddings, categories)]\n",
    "\n",
    "for product_chunk in chunks(data, batch_size=100):\n",
    "    index.upsert(vectors=product_chunk, show_progress=True)"
   ]
  },
  {
   "cell_type": "markdown",
   "metadata": {},
   "source": [
    "### F. Step by step details"
   ]
  },
  {
   "cell_type": "markdown",
   "metadata": {},
   "source": [
    "##### 1. Get embeddings for new product"
   ]
  },
  {
   "cell_type": "code",
   "execution_count": 7,
   "metadata": {},
   "outputs": [
    {
     "data": {
      "text/plain": [
       "([0.013549805, 0.027404785, -0.019348145, -0.0066566467, 0.021987915],\n",
       " '... TRIMMED]')"
      ]
     },
     "execution_count": 7,
     "metadata": {},
     "output_type": "execute_result"
    }
   ],
   "source": [
    "new_product = get_embeddings('Minimalist design dining table')\n",
    "new_product[:5], '... TRIMMED]'"
   ]
  },
  {
   "cell_type": "markdown",
   "metadata": {},
   "source": [
    "##### 2. Query the Pinecone database"
   ]
  },
  {
   "cell_type": "code",
   "execution_count": 8,
   "metadata": {},
   "outputs": [
    {
     "data": {
      "text/plain": [
       "[{'id': '10',\n",
       "  'metadata': {'category': 'Table', 'name': 'Minimalist Coffee Table T204'},\n",
       "  'score': 0.659406364,\n",
       "  'values': []},\n",
       " {'id': '50',\n",
       "  'metadata': {'category': 'Table', 'name': 'Drop-Leaf Dining Table T208'},\n",
       "  'score': 0.599191964,\n",
       "  'values': []},\n",
       " {'id': '80',\n",
       "  'metadata': {'category': 'Table', 'name': 'Glass Dining Table T211'},\n",
       "  'score': 0.581814,\n",
       "  'values': []},\n",
       " {'id': '0',\n",
       "  'metadata': {'category': 'Table', 'name': 'Elegant Oak Dining Table T203'},\n",
       "  'score': 0.581210554,\n",
       "  'values': []},\n",
       " {'id': '60',\n",
       "  'metadata': {'category': 'Table', 'name': 'Square Dining Table T209'},\n",
       "  'score': 0.576596618,\n",
       "  'values': []},\n",
       " {'id': '20',\n",
       "  'metadata': {'category': 'Table', 'name': 'Scandinavian Dining Table T205'},\n",
       "  'score': 0.558457255,\n",
       "  'values': []},\n",
       " {'id': '90',\n",
       "  'metadata': {'category': 'Table', 'name': 'Farmhouse Dining Table T212'},\n",
       "  'score': 0.534819722,\n",
       "  'values': []},\n",
       " {'id': '70',\n",
       "  'metadata': {'category': 'Table', 'name': 'Extendable Dining Table T210'},\n",
       "  'score': 0.529771507,\n",
       "  'values': []},\n",
       " {'id': '40',\n",
       "  'metadata': {'category': 'Table', 'name': 'Rectangular Oak Table T207'},\n",
       "  'score': 0.470701188,\n",
       "  'values': []},\n",
       " {'id': '30',\n",
       "  'metadata': {'category': 'Table', 'name': 'Round Glass Coffee Table T206'},\n",
       "  'score': 0.411755651,\n",
       "  'values': []}]"
      ]
     },
     "execution_count": 8,
     "metadata": {},
     "output_type": "execute_result"
    }
   ],
   "source": [
    "# Returning the 10 products with highest similarity score\n",
    "\n",
    "query = index.query(\n",
    "    vector=new_product,\n",
    "    top_k=10,\n",
    "    include_metadata=True\n",
    ")\n",
    "\n",
    "query.matches"
   ]
  },
  {
   "cell_type": "markdown",
   "metadata": {},
   "source": [
    "##### 3. Retrieve category"
   ]
  },
  {
   "cell_type": "code",
   "execution_count": 9,
   "metadata": {},
   "outputs": [
    {
     "data": {
      "text/plain": [
       "'Table'"
      ]
     },
     "execution_count": 9,
     "metadata": {},
     "output_type": "execute_result"
    }
   ],
   "source": [
    "# Returning the category from the product with highest similarity score\n",
    "\n",
    "category = query.matches[0].metadata['category']\n",
    "category"
   ]
  }
 ],
 "metadata": {
  "kernelspec": {
   "display_name": "Python 3",
   "language": "python",
   "name": "python3"
  },
  "language_info": {
   "codemirror_mode": {
    "name": "ipython",
    "version": 3
   },
   "file_extension": ".py",
   "mimetype": "text/x-python",
   "name": "python",
   "nbconvert_exporter": "python",
   "pygments_lexer": "ipython3",
   "version": "3.12.3"
  }
 },
 "nbformat": 4,
 "nbformat_minor": 2
}
